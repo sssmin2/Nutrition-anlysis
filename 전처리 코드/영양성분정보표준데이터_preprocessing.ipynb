{
 "cells": [
  {
   "cell_type": "code",
   "execution_count": 1,
   "id": "186dc4b3-9a72-46cb-94e4-de9aa26487b3",
   "metadata": {},
   "outputs": [],
   "source": [
    "import pandas as pd"
   ]
  },
  {
   "cell_type": "code",
   "execution_count": 5,
   "id": "ca17742e-0149-4ad7-96c5-056f3e315ff7",
   "metadata": {},
   "outputs": [],
   "source": [
    "path = 'data/전국통합식품영양성분정보표준데이터.csv'\n",
    "df = pd.read_csv(path, encoding='cp949', low_memory=False)"
   ]
  },
  {
   "cell_type": "code",
   "execution_count": 7,
   "id": "9b202925-ecb4-44f9-85e4-42607ddfe7d3",
   "metadata": {},
   "outputs": [
    {
     "data": {
      "text/plain": [
       "(50000, 47)"
      ]
     },
     "execution_count": 7,
     "metadata": {},
     "output_type": "execute_result"
    }
   ],
   "source": [
    "df.shape"
   ]
  },
  {
   "cell_type": "code",
   "execution_count": 9,
   "id": "91f0d09a-6a07-4457-96b6-cc23eda1ba17",
   "metadata": {},
   "outputs": [
    {
     "data": {
      "text/plain": [
       "Index(['식품코드', '식품명', '데이터구분코드', '데이터구분명', '에너지(kcal)', '영양성분함량기준량', '수분(g)',\n",
       "       '단백질(g)', '지방(g)', '회분(g)', '탄수화물(g)', '당류(g)', '식이섬유(g)', '칼슘(mg)',\n",
       "       '철(mg)', '인(mg)', '칼륨(mg)', '나트륨(mg)', '비타민 A(μg RAE)', '레티놀(μg)',\n",
       "       '베타카로틴(μg)', '티아민(mg)', '리보플라빈(mg)', '니아신(mg)', '비타민 C(mg)',\n",
       "       '비타민 D(μg)', '콜레스테롤(mg)', '포화지방산(g)', '트랜스지방산(g)', '폐기율(%)', '출처코드',\n",
       "       '출처명', '식품중량', '수입여부', '원산지국코드', '원산지국명', '품목제조보고번호', '업체명', '제조사명',\n",
       "       '수입업체명', '유통업체명', '데이터생성방법코드', '데이터생성방법명', '데이터생성일자', '데이터기준일자',\n",
       "       '제공기관코드', '제공기관명'],\n",
       "      dtype='object')"
      ]
     },
     "execution_count": 9,
     "metadata": {},
     "output_type": "execute_result"
    }
   ],
   "source": [
    "df.columns"
   ]
  },
  {
   "cell_type": "code",
   "execution_count": 13,
   "id": "3e2f0749-58f2-44dd-9c72-6d8837cef041",
   "metadata": {},
   "outputs": [
    {
     "data": {
      "text/plain": [
       "식품코드              object\n",
       "식품명               object\n",
       "데이터구분코드           object\n",
       "데이터구분명            object\n",
       "에너지(kcal)          int64\n",
       "영양성분함량기준량         object\n",
       "수분(g)            float64\n",
       "단백질(g)           float64\n",
       "지방(g)            float64\n",
       "회분(g)            float64\n",
       "탄수화물(g)          float64\n",
       "당류(g)            float64\n",
       "식이섬유(g)          float64\n",
       "칼슘(mg)           float64\n",
       "철(mg)            float64\n",
       "인(mg)            float64\n",
       "칼륨(mg)           float64\n",
       "나트륨(mg)          float64\n",
       "비타민 A(μg RAE)    float64\n",
       "레티놀(μg)          float64\n",
       "베타카로틴(μg)        float64\n",
       "티아민(mg)          float64\n",
       "리보플라빈(mg)        float64\n",
       "니아신(mg)          float64\n",
       "비타민 C(mg)        float64\n",
       "비타민 D(μg)        float64\n",
       "콜레스테롤(mg)        float64\n",
       "포화지방산(g)         float64\n",
       "트랜스지방산(g)        float64\n",
       "폐기율(%)           float64\n",
       "출처코드               int64\n",
       "출처명               object\n",
       "식품중량              object\n",
       "수입여부              object\n",
       "원산지국코드           float64\n",
       "원산지국명             object\n",
       "품목제조보고번호          object\n",
       "업체명               object\n",
       "제조사명              object\n",
       "수입업체명             object\n",
       "유통업체명             object\n",
       "데이터생성방법코드          int64\n",
       "데이터생성방법명          object\n",
       "데이터생성일자           object\n",
       "데이터기준일자           object\n",
       "제공기관코드             int64\n",
       "제공기관명             object\n",
       "dtype: object"
      ]
     },
     "execution_count": 13,
     "metadata": {},
     "output_type": "execute_result"
    }
   ],
   "source": [
    "df.dtypes"
   ]
  },
  {
   "cell_type": "code",
   "execution_count": 15,
   "id": "d4f5f0d0-e716-40fa-9aac-a24a4b7b1413",
   "metadata": {},
   "outputs": [
    {
     "data": {
      "text/html": [
       "<div>\n",
       "<style scoped>\n",
       "    .dataframe tbody tr th:only-of-type {\n",
       "        vertical-align: middle;\n",
       "    }\n",
       "\n",
       "    .dataframe tbody tr th {\n",
       "        vertical-align: top;\n",
       "    }\n",
       "\n",
       "    .dataframe thead th {\n",
       "        text-align: right;\n",
       "    }\n",
       "</style>\n",
       "<table border=\"1\" class=\"dataframe\">\n",
       "  <thead>\n",
       "    <tr style=\"text-align: right;\">\n",
       "      <th></th>\n",
       "      <th>식품코드</th>\n",
       "      <th>식품명</th>\n",
       "      <th>데이터구분코드</th>\n",
       "      <th>데이터구분명</th>\n",
       "      <th>에너지(kcal)</th>\n",
       "      <th>영양성분함량기준량</th>\n",
       "      <th>수분(g)</th>\n",
       "      <th>단백질(g)</th>\n",
       "      <th>지방(g)</th>\n",
       "      <th>회분(g)</th>\n",
       "      <th>...</th>\n",
       "      <th>업체명</th>\n",
       "      <th>제조사명</th>\n",
       "      <th>수입업체명</th>\n",
       "      <th>유통업체명</th>\n",
       "      <th>데이터생성방법코드</th>\n",
       "      <th>데이터생성방법명</th>\n",
       "      <th>데이터생성일자</th>\n",
       "      <th>데이터기준일자</th>\n",
       "      <th>제공기관코드</th>\n",
       "      <th>제공기관명</th>\n",
       "    </tr>\n",
       "  </thead>\n",
       "  <tbody>\n",
       "    <tr>\n",
       "      <th>0</th>\n",
       "      <td>R102-014010006-0000</td>\n",
       "      <td>전분_감자_분말화한것</td>\n",
       "      <td>R</td>\n",
       "      <td>원재료성 식품</td>\n",
       "      <td>334</td>\n",
       "      <td>100g</td>\n",
       "      <td>17.0</td>\n",
       "      <td>0.07</td>\n",
       "      <td>0.02</td>\n",
       "      <td>0.21</td>\n",
       "      <td>...</td>\n",
       "      <td>해당없음</td>\n",
       "      <td>해당없음</td>\n",
       "      <td>해당없음</td>\n",
       "      <td>해당없음</td>\n",
       "      <td>1</td>\n",
       "      <td>분석</td>\n",
       "      <td>2016-12-31</td>\n",
       "      <td>2025-02-24</td>\n",
       "      <td>1390803</td>\n",
       "      <td>농촌진흥청 국립식량과학원</td>\n",
       "    </tr>\n",
       "    <tr>\n",
       "      <th>1</th>\n",
       "      <td>R102-014020006-0000</td>\n",
       "      <td>전분_고구마_분말화한것</td>\n",
       "      <td>R</td>\n",
       "      <td>원재료성 식품</td>\n",
       "      <td>346</td>\n",
       "      <td>100g</td>\n",
       "      <td>13.9</td>\n",
       "      <td>0.00</td>\n",
       "      <td>0.05</td>\n",
       "      <td>0.24</td>\n",
       "      <td>...</td>\n",
       "      <td>해당없음</td>\n",
       "      <td>해당없음</td>\n",
       "      <td>해당없음</td>\n",
       "      <td>해당없음</td>\n",
       "      <td>1</td>\n",
       "      <td>분석</td>\n",
       "      <td>2018-04-01</td>\n",
       "      <td>2025-02-24</td>\n",
       "      <td>1390803</td>\n",
       "      <td>농촌진흥청 국립식량과학원</td>\n",
       "    </tr>\n",
       "    <tr>\n",
       "      <th>2</th>\n",
       "      <td>R102-014030006-0000</td>\n",
       "      <td>전분_밀_분말화한것</td>\n",
       "      <td>R</td>\n",
       "      <td>원재료성 식품</td>\n",
       "      <td>360</td>\n",
       "      <td>100g</td>\n",
       "      <td>13.1</td>\n",
       "      <td>0.20</td>\n",
       "      <td>0.50</td>\n",
       "      <td>0.20</td>\n",
       "      <td>...</td>\n",
       "      <td>해당없음</td>\n",
       "      <td>해당없음</td>\n",
       "      <td>해당없음</td>\n",
       "      <td>해당없음</td>\n",
       "      <td>2</td>\n",
       "      <td>수집</td>\n",
       "      <td>2020-12-31</td>\n",
       "      <td>2025-02-24</td>\n",
       "      <td>1390803</td>\n",
       "      <td>농촌진흥청 국립식량과학원</td>\n",
       "    </tr>\n",
       "    <tr>\n",
       "      <th>3</th>\n",
       "      <td>R102-014040006-0000</td>\n",
       "      <td>전분_쌀_분말화한것</td>\n",
       "      <td>R</td>\n",
       "      <td>원재료성 식품</td>\n",
       "      <td>375</td>\n",
       "      <td>100g</td>\n",
       "      <td>9.7</td>\n",
       "      <td>0.20</td>\n",
       "      <td>0.70</td>\n",
       "      <td>0.10</td>\n",
       "      <td>...</td>\n",
       "      <td>해당없음</td>\n",
       "      <td>해당없음</td>\n",
       "      <td>해당없음</td>\n",
       "      <td>해당없음</td>\n",
       "      <td>2</td>\n",
       "      <td>수집</td>\n",
       "      <td>2020-12-31</td>\n",
       "      <td>2025-02-24</td>\n",
       "      <td>1390803</td>\n",
       "      <td>농촌진흥청 국립식량과학원</td>\n",
       "    </tr>\n",
       "    <tr>\n",
       "      <th>4</th>\n",
       "      <td>R102-014050006-0000</td>\n",
       "      <td>전분_옥수수_분말화한것</td>\n",
       "      <td>R</td>\n",
       "      <td>원재료성 식품</td>\n",
       "      <td>366</td>\n",
       "      <td>100g</td>\n",
       "      <td>9.6</td>\n",
       "      <td>0.19</td>\n",
       "      <td>0.56</td>\n",
       "      <td>0.05</td>\n",
       "      <td>...</td>\n",
       "      <td>해당없음</td>\n",
       "      <td>해당없음</td>\n",
       "      <td>해당없음</td>\n",
       "      <td>해당없음</td>\n",
       "      <td>1</td>\n",
       "      <td>분석</td>\n",
       "      <td>2016-12-31</td>\n",
       "      <td>2025-02-24</td>\n",
       "      <td>1390803</td>\n",
       "      <td>농촌진흥청 국립식량과학원</td>\n",
       "    </tr>\n",
       "  </tbody>\n",
       "</table>\n",
       "<p>5 rows × 47 columns</p>\n",
       "</div>"
      ],
      "text/plain": [
       "                  식품코드           식품명 데이터구분코드   데이터구분명  에너지(kcal) 영양성분함량기준량  \\\n",
       "0  R102-014010006-0000   전분_감자_분말화한것       R  원재료성 식품        334      100g   \n",
       "1  R102-014020006-0000  전분_고구마_분말화한것       R  원재료성 식품        346      100g   \n",
       "2  R102-014030006-0000    전분_밀_분말화한것       R  원재료성 식품        360      100g   \n",
       "3  R102-014040006-0000    전분_쌀_분말화한것       R  원재료성 식품        375      100g   \n",
       "4  R102-014050006-0000  전분_옥수수_분말화한것       R  원재료성 식품        366      100g   \n",
       "\n",
       "   수분(g)  단백질(g)  지방(g)  회분(g)  ...   업체명  제조사명  수입업체명  유통업체명  데이터생성방법코드  \\\n",
       "0   17.0    0.07   0.02   0.21  ...  해당없음  해당없음   해당없음   해당없음          1   \n",
       "1   13.9    0.00   0.05   0.24  ...  해당없음  해당없음   해당없음   해당없음          1   \n",
       "2   13.1    0.20   0.50   0.20  ...  해당없음  해당없음   해당없음   해당없음          2   \n",
       "3    9.7    0.20   0.70   0.10  ...  해당없음  해당없음   해당없음   해당없음          2   \n",
       "4    9.6    0.19   0.56   0.05  ...  해당없음  해당없음   해당없음   해당없음          1   \n",
       "\n",
       "   데이터생성방법명     데이터생성일자     데이터기준일자   제공기관코드          제공기관명  \n",
       "0        분석  2016-12-31  2025-02-24  1390803  농촌진흥청 국립식량과학원  \n",
       "1        분석  2018-04-01  2025-02-24  1390803  농촌진흥청 국립식량과학원  \n",
       "2        수집  2020-12-31  2025-02-24  1390803  농촌진흥청 국립식량과학원  \n",
       "3        수집  2020-12-31  2025-02-24  1390803  농촌진흥청 국립식량과학원  \n",
       "4        분석  2016-12-31  2025-02-24  1390803  농촌진흥청 국립식량과학원  \n",
       "\n",
       "[5 rows x 47 columns]"
      ]
     },
     "execution_count": 15,
     "metadata": {},
     "output_type": "execute_result"
    }
   ],
   "source": [
    "df.head()"
   ]
  },
  {
   "cell_type": "code",
   "execution_count": 17,
   "id": "8f46d37a-e314-4f1e-8771-a6a76a888c7c",
   "metadata": {},
   "outputs": [
    {
     "data": {
      "text/plain": [
       "폐기율(%)           49142\n",
       "베타카로틴(μg)        49030\n",
       "비타민 D(μg)        48784\n",
       "레티놀(μg)          48716\n",
       "비타민 A(μg RAE)    48590\n",
       "니아신(mg)          48559\n",
       "칼륨(mg)           48527\n",
       "티아민(mg)          48488\n",
       "리보플라빈(mg)        48483\n",
       "인(mg)            48474\n",
       "비타민 C(mg)        48423\n",
       "원산지국코드           48224\n",
       "회분(g)            48011\n",
       "수분(g)            47989\n",
       "철(mg)            47906\n",
       "식이섬유(g)          47814\n",
       "업체명              47802\n",
       "칼슘(mg)           46931\n",
       "식품중량              1844\n",
       "트랜스지방산(g)         1496\n",
       "콜레스테롤(mg)         1378\n",
       "품목제조보고번호          1218\n",
       "포화지방산(g)          1056\n",
       "당류(g)              964\n",
       "나트륨(mg)            915\n",
       "유통업체명              440\n",
       "수입업체명              440\n",
       "제조사명               440\n",
       "수입여부               440\n",
       "원산지국명              440\n",
       "탄수화물(g)            231\n",
       "지방(g)              228\n",
       "데이터생성방법코드            0\n",
       "데이터생성일자              0\n",
       "데이터생성방법명             0\n",
       "제공기관코드               0\n",
       "데이터기준일자              0\n",
       "식품코드                 0\n",
       "출처명                  0\n",
       "출처코드                 0\n",
       "식품명                  0\n",
       "단백질(g)               0\n",
       "영양성분함량기준량            0\n",
       "에너지(kcal)            0\n",
       "데이터구분명               0\n",
       "데이터구분코드              0\n",
       "제공기관명                0\n",
       "dtype: int64"
      ]
     },
     "execution_count": 17,
     "metadata": {},
     "output_type": "execute_result"
    }
   ],
   "source": [
    "df.isnull().sum().sort_values(ascending=False)"
   ]
  },
  {
   "cell_type": "code",
   "execution_count": 19,
   "id": "f4bcab77-4fa1-46b3-929d-a94600dd49dd",
   "metadata": {},
   "outputs": [
    {
     "data": {
      "text/plain": [
       "805"
      ]
     },
     "execution_count": 19,
     "metadata": {},
     "output_type": "execute_result"
    }
   ],
   "source": [
    "df.duplicated().sum()"
   ]
  },
  {
   "cell_type": "markdown",
   "id": "51a91f92-ac34-4905-a2f7-1d12dcfcdc92",
   "metadata": {},
   "source": [
    "#### 전처리"
   ]
  },
  {
   "cell_type": "code",
   "execution_count": 9,
   "id": "497c99b1-e4cb-467f-8554-7e72e577d55c",
   "metadata": {},
   "outputs": [
    {
     "name": "stdout",
     "output_type": "stream",
     "text": [
      "전처리 완료: 전국통합영양성분표준_전처리.csv 저장됨\n"
     ]
    }
   ],
   "source": [
    "import pandas as pd\n",
    "\n",
    "# ----------------------------\n",
    "# 1. 데이터 로드\n",
    "# ----------------------------\n",
    "df = pd.read_csv('../data/전국통합식품영양성분정보표준데이터.csv', encoding='cp949', low_memory=False)\n",
    "\n",
    "# ----------------------------\n",
    "# 2. 사용할 주요 성분 정의 (영문 키로 변경)\n",
    "# ----------------------------\n",
    "column_map = {\n",
    "    '식품코드': 'food_code',\n",
    "    '식품명': 'food_name',\n",
    "    '데이터구분코드': 'data_pid',\n",
    "    '데이터구분명': 'data_pid_name',\n",
    "    '영양성분함량기준량': 'serving_size(g)',\n",
    "    '에너지(kcal)': 'calorie_kcal',\n",
    "    '탄수화물(g)': 'carbohydrate_g',\n",
    "    '당류(g)': 'sugar_g',\n",
    "    '단백질(g)': 'protein_g',\n",
    "    '지방(g)': 'fat_g',\n",
    "    '포화지방산(g)': 'saturated_fat_g',\n",
    "    '트랜스지방산(g)': 'trans_fat_g',\n",
    "    '나트륨(mg)': 'sodium_mg',\n",
    "    '콜레스테롤(mg)': 'cholesterol_mgl',\n",
    "    '식이섬유(g)': 'fiber_g',\n",
    "    '비타민 C(mg)': 'vitamin_c_mg',\n",
    "    '비타민 D(μg)': 'vitamin_d_μg',\n",
    "    '칼슘(mg)': 'calcium_mg',\n",
    "    '철(mg)': 'iron_mg'\n",
    "}\n",
    "\n",
    "# ----------------------------\n",
    "# 3. 필요한 컬럼만 필터링\n",
    "# ----------------------------\n",
    "existing_cols = [col for col in column_map if col in df.columns]\n",
    "df_cleaned = df[existing_cols].copy()\n",
    "df_cleaned = df_cleaned.rename(columns=column_map)\n",
    "\n",
    "# ----------------------------\n",
    "# 4. 영양성분 수치 float 변환\n",
    "# ----------------------------\n",
    "nutrient_cols = list(column_map.values())[5:]  # 영양소 컬럼만 추출\n",
    "df_cleaned[nutrient_cols] = df_cleaned[nutrient_cols].apply(pd.to_numeric, errors='coerce')\n",
    "\n",
    "# ----------------------------\n",
    "# 5. serving_size에서 숫자만 추출\n",
    "# 예: '100 g' → 100.0\n",
    "# ----------------------------\n",
    "df_cleaned['serving_size(g)'] = df_cleaned['serving_size(g)'].str.extract(r'(\\d+(?:\\.\\d+)?)')\n",
    "df_cleaned['serving_size(g)'] = pd.to_numeric(df_cleaned['serving_size(g)'], errors='coerce')\n",
    "\n",
    "# ----------------------------\n",
    "# 6. 저장\n",
    "# ----------------------------\n",
    "df_cleaned.to_csv('../data_preprocessing/전국통합영양성분표준_전처리.csv', index=False, encoding='utf-8-sig')\n",
    "print(\"전처리 완료: 전국통합영양성분표준_전처리.csv 저장됨\")"
   ]
  }
 ],
 "metadata": {
  "kernelspec": {
   "display_name": "Python [conda env:base] *",
   "language": "python",
   "name": "conda-base-py"
  },
  "language_info": {
   "codemirror_mode": {
    "name": "ipython",
    "version": 3
   },
   "file_extension": ".py",
   "mimetype": "text/x-python",
   "name": "python",
   "nbconvert_exporter": "python",
   "pygments_lexer": "ipython3",
   "version": "3.12.7"
  }
 },
 "nbformat": 4,
 "nbformat_minor": 5
}
