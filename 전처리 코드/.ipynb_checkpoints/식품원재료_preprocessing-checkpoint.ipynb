{
 "cells": [
  {
   "cell_type": "code",
   "execution_count": 1,
   "id": "a9692ff5-2b08-48d8-80fb-e4dffa5d168e",
   "metadata": {},
   "outputs": [],
   "source": [
    "import pandas as pd"
   ]
  },
  {
   "cell_type": "code",
   "execution_count": 3,
   "id": "cd1adc77-a63f-4d7e-913d-b14fa6f14699",
   "metadata": {},
   "outputs": [],
   "source": [
    "path = 'data/식품원재료정보.csv'\n",
    "df = pd.read_csv(path, encoding='utf-8', low_memory=False)"
   ]
  },
  {
   "cell_type": "markdown",
   "id": "5494646c-b5e5-4d64-9b8a-195159aa4243",
   "metadata": {},
   "source": [
    "#### 기본 정보 파악"
   ]
  },
  {
   "cell_type": "code",
   "execution_count": 6,
   "id": "d8d8ac05-23d7-42c2-bc6d-2b6483d7d190",
   "metadata": {},
   "outputs": [
    {
     "data": {
      "text/plain": [
       "(18463, 9)"
      ]
     },
     "execution_count": 6,
     "metadata": {},
     "output_type": "execute_result"
    }
   ],
   "source": [
    "df.shape"
   ]
  },
  {
   "cell_type": "code",
   "execution_count": 8,
   "id": "94da47db-76fa-4b0d-b1ca-4451186ef62a",
   "metadata": {},
   "outputs": [
    {
     "data": {
      "text/plain": [
       "Index(['LCLAS_NM', 'MLSFC_NM', 'RPRSNT_RAWMTRL_NM', 'RAWMTRL_NCKNM', 'ENG_NM',\n",
       "       'SCNM', 'REGN_CD_NM', 'RAWMTRL_STATS_CD_NM', 'USE_CND_NM'],\n",
       "      dtype='object')"
      ]
     },
     "execution_count": 8,
     "metadata": {},
     "output_type": "execute_result"
    }
   ],
   "source": [
    "df.columns"
   ]
  },
  {
   "cell_type": "code",
   "execution_count": 10,
   "id": "a96a312d-c50e-4f35-ab73-f3526435f8b6",
   "metadata": {},
   "outputs": [
    {
     "data": {
      "text/plain": [
       "LCLAS_NM                object\n",
       "MLSFC_NM                object\n",
       "RPRSNT_RAWMTRL_NM       object\n",
       "RAWMTRL_NCKNM           object\n",
       "ENG_NM                  object\n",
       "SCNM                    object\n",
       "REGN_CD_NM              object\n",
       "RAWMTRL_STATS_CD_NM    float64\n",
       "USE_CND_NM              object\n",
       "dtype: object"
      ]
     },
     "execution_count": 10,
     "metadata": {},
     "output_type": "execute_result"
    }
   ],
   "source": [
    "df.dtypes"
   ]
  },
  {
   "cell_type": "code",
   "execution_count": 12,
   "id": "baaa2979-53f5-4ef6-8313-4abece6a5e07",
   "metadata": {},
   "outputs": [
    {
     "data": {
      "text/html": [
       "<div>\n",
       "<style scoped>\n",
       "    .dataframe tbody tr th:only-of-type {\n",
       "        vertical-align: middle;\n",
       "    }\n",
       "\n",
       "    .dataframe tbody tr th {\n",
       "        vertical-align: top;\n",
       "    }\n",
       "\n",
       "    .dataframe thead th {\n",
       "        text-align: right;\n",
       "    }\n",
       "</style>\n",
       "<table border=\"1\" class=\"dataframe\">\n",
       "  <thead>\n",
       "    <tr style=\"text-align: right;\">\n",
       "      <th></th>\n",
       "      <th>LCLAS_NM</th>\n",
       "      <th>MLSFC_NM</th>\n",
       "      <th>RPRSNT_RAWMTRL_NM</th>\n",
       "      <th>RAWMTRL_NCKNM</th>\n",
       "      <th>ENG_NM</th>\n",
       "      <th>SCNM</th>\n",
       "      <th>REGN_CD_NM</th>\n",
       "      <th>RAWMTRL_STATS_CD_NM</th>\n",
       "      <th>USE_CND_NM</th>\n",
       "    </tr>\n",
       "  </thead>\n",
       "  <tbody>\n",
       "    <tr>\n",
       "      <th>0</th>\n",
       "      <td>식품원료(A코드)</td>\n",
       "      <td>식물</td>\n",
       "      <td>Abiu열매</td>\n",
       "      <td>NaN</td>\n",
       "      <td>Yellow star apple, Caimito, Caimo, Luma</td>\n",
       "      <td>Pouteria caimito Radlk / Lucuma caimito Roem. ...</td>\n",
       "      <td>열매</td>\n",
       "      <td>NaN</td>\n",
       "      <td>사용가능부위 : 열매</td>\n",
       "    </tr>\n",
       "    <tr>\n",
       "      <th>1</th>\n",
       "      <td>식품원료(A코드)</td>\n",
       "      <td>식물</td>\n",
       "      <td>Abiu열매분말</td>\n",
       "      <td>NaN</td>\n",
       "      <td>Yellow star apple, Caimito, Caimo, Luma</td>\n",
       "      <td>Pouteria caimito Radlk / Lucuma caimito Roem. ...</td>\n",
       "      <td>열매</td>\n",
       "      <td>NaN</td>\n",
       "      <td>사용가능부위 : 열매</td>\n",
       "    </tr>\n",
       "    <tr>\n",
       "      <th>2</th>\n",
       "      <td>식품원료(A코드)</td>\n",
       "      <td>식물</td>\n",
       "      <td>Agathi꽃</td>\n",
       "      <td>NaN</td>\n",
       "      <td>Acham</td>\n",
       "      <td>Sesbania grandiflora</td>\n",
       "      <td>꽃</td>\n",
       "      <td>NaN</td>\n",
       "      <td>사용가능부위 : 잎, 꽃</td>\n",
       "    </tr>\n",
       "    <tr>\n",
       "      <th>3</th>\n",
       "      <td>식품원료(A코드)</td>\n",
       "      <td>식물</td>\n",
       "      <td>Agathi잎</td>\n",
       "      <td>NaN</td>\n",
       "      <td>Acham</td>\n",
       "      <td>Sesbania grandiflora</td>\n",
       "      <td>잎</td>\n",
       "      <td>NaN</td>\n",
       "      <td>사용가능부위 : 잎, 꽃</td>\n",
       "    </tr>\n",
       "    <tr>\n",
       "      <th>4</th>\n",
       "      <td>식품원료(A코드)</td>\n",
       "      <td>식물</td>\n",
       "      <td>Alder Buckthorn</td>\n",
       "      <td>NaN</td>\n",
       "      <td>Frangula bark, Frangula alnus (Mill.), Black d...</td>\n",
       "      <td>Rhamnus frangula (L)</td>\n",
       "      <td>전체</td>\n",
       "      <td>NaN</td>\n",
       "      <td>NaN</td>\n",
       "    </tr>\n",
       "  </tbody>\n",
       "</table>\n",
       "</div>"
      ],
      "text/plain": [
       "    LCLAS_NM MLSFC_NM RPRSNT_RAWMTRL_NM RAWMTRL_NCKNM  \\\n",
       "0  식품원료(A코드)       식물            Abiu열매           NaN   \n",
       "1  식품원료(A코드)       식물          Abiu열매분말           NaN   \n",
       "2  식품원료(A코드)       식물           Agathi꽃           NaN   \n",
       "3  식품원료(A코드)       식물           Agathi잎           NaN   \n",
       "4  식품원료(A코드)       식물   Alder Buckthorn           NaN   \n",
       "\n",
       "                                              ENG_NM  \\\n",
       "0            Yellow star apple, Caimito, Caimo, Luma   \n",
       "1            Yellow star apple, Caimito, Caimo, Luma   \n",
       "2                                              Acham   \n",
       "3                                              Acham   \n",
       "4  Frangula bark, Frangula alnus (Mill.), Black d...   \n",
       "\n",
       "                                                SCNM REGN_CD_NM  \\\n",
       "0  Pouteria caimito Radlk / Lucuma caimito Roem. ...         열매   \n",
       "1  Pouteria caimito Radlk / Lucuma caimito Roem. ...         열매   \n",
       "2                               Sesbania grandiflora          꽃   \n",
       "3                               Sesbania grandiflora          잎   \n",
       "4                               Rhamnus frangula (L)         전체   \n",
       "\n",
       "   RAWMTRL_STATS_CD_NM     USE_CND_NM  \n",
       "0                  NaN    사용가능부위 : 열매  \n",
       "1                  NaN    사용가능부위 : 열매  \n",
       "2                  NaN  사용가능부위 : 잎, 꽃  \n",
       "3                  NaN  사용가능부위 : 잎, 꽃  \n",
       "4                  NaN            NaN  "
      ]
     },
     "execution_count": 12,
     "metadata": {},
     "output_type": "execute_result"
    }
   ],
   "source": [
    "df.head()"
   ]
  },
  {
   "cell_type": "markdown",
   "id": "6dd18a64-981b-4f3a-bca0-f0fecc80469d",
   "metadata": {},
   "source": [
    "#### 결측치 확인"
   ]
  },
  {
   "cell_type": "code",
   "execution_count": 15,
   "id": "6333931a-2655-48c3-b341-9017c49a2aee",
   "metadata": {},
   "outputs": [
    {
     "data": {
      "text/plain": [
       "RAWMTRL_STATS_CD_NM    18463\n",
       "USE_CND_NM              7702\n",
       "SCNM                    4746\n",
       "RAWMTRL_NCKNM           4021\n",
       "ENG_NM                  1837\n",
       "REGN_CD_NM               302\n",
       "LCLAS_NM                   0\n",
       "MLSFC_NM                   0\n",
       "RPRSNT_RAWMTRL_NM          0\n",
       "dtype: int64"
      ]
     },
     "execution_count": 15,
     "metadata": {},
     "output_type": "execute_result"
    }
   ],
   "source": [
    "df.isnull().sum().sort_values(ascending=False)"
   ]
  },
  {
   "cell_type": "markdown",
   "id": "49fe1a88-d5a8-4825-802f-5649f123d8ad",
   "metadata": {},
   "source": [
    "#### 중복 여부 확인"
   ]
  },
  {
   "cell_type": "code",
   "execution_count": 18,
   "id": "1632dfc1-94f0-41d2-b338-a052834f21c6",
   "metadata": {},
   "outputs": [
    {
     "data": {
      "text/plain": [
       "0"
      ]
     },
     "execution_count": 18,
     "metadata": {},
     "output_type": "execute_result"
    }
   ],
   "source": [
    "df.duplicated().sum()"
   ]
  },
  {
   "cell_type": "code",
   "execution_count": 20,
   "id": "d61eafb9-678b-4c7e-9277-433dd6fd897a",
   "metadata": {},
   "outputs": [
    {
     "data": {
      "text/plain": [
       "18459"
      ]
     },
     "execution_count": 20,
     "metadata": {},
     "output_type": "execute_result"
    }
   ],
   "source": [
    "df['LCLAS_NM'].duplicated().sum()"
   ]
  },
  {
   "cell_type": "code",
   "execution_count": null,
   "id": "f57b767d-cb1e-4070-9b14-e85614a18b59",
   "metadata": {},
   "outputs": [],
   "source": [
    "import pandas as pd\n",
    "\n",
    "# -------------------------------\n",
    "# 1. 데이터 불러오기 (한글 깨짐 방지)\n",
    "# -------------------------------\n",
    "path = 'data/식품원재료정보.csv'\n",
    "df = pd.read_csv(path, encoding='utf-8-sig', low_memory=False)\n",
    "\n",
    "# -------------------------------\n",
    "# 2. 완전 결측 컬럼 제거\n",
    "# -------------------------------\n",
    "df = df.dropna(axis=1, how='all')  # e.g. RAWMTRL_STATS_CD_NM\n",
    "\n",
    "# -------------------------------\n",
    "# 3. '사용가능부위 :' 문자열 제거 (새로운 컬럼에 저장)\n",
    "# -------------------------------\n",
    "df['USE_CND'] = df['USE_CND_NM'].str.replace(r'사용가능부위\\s*:\\s*', '', regex=True)\n",
    "\n",
    "# -------------------------------\n",
    "# 4. 주요 컬럼 선택 및 재배열\n",
    "# -------------------------------\n",
    "selected_cols = [\n",
    "    'RPRSNT_RAWMTRL_NM',   # 대표 원재료명\n",
    "    'RAWMTRL_NCKNM',       # 별칭\n",
    "    'ENG_NM',              # 영문명\n",
    "    'SCNM',                # 학명\n",
    "    'REGN_CD_NM',          # 부위\n",
    "    'USE_CND',             # 사용가능 부위 (정제됨)\n",
    "    'LCLAS_NM',            # 대분류명\n",
    "    'MLSFC_NM'             # 중분류명\n",
    "]\n",
    "df_clean = df[selected_cols]\n",
    "\n",
    "# -------------------------------\n",
    "# 5. 컬럼명 한글로 rename (선택적)\n",
    "# -------------------------------\n",
    "df_clean = df_clean.rename(columns={\n",
    "    'RPRSNT_RAWMTRL_NM': '원재료명',\n",
    "    'RAWMTRL_NCKNM': '별칭',\n",
    "    'ENG_NM': '영문명',\n",
    "    'SCNM': '학명',\n",
    "    'REGN_CD_NM': '부위',\n",
    "    'USE_CND': '사용가능부위',\n",
    "    'LCLAS_NM': '대분류',\n",
    "    'MLSFC_NM': '중분류'\n",
    "})\n",
    "\n",
    "# -------------------------------\n",
    "# 6. 결과 저장\n",
    "# -------------------------------\n",
    "output_path = 'data/식품원재료정보_전처리.csv'\n",
    "df_clean.to_csv(output_path, index=False, encoding='utf-8-sig')\n"
   ]
  }
 ],
 "metadata": {
  "kernelspec": {
   "display_name": "Python [conda env:base] *",
   "language": "python",
   "name": "conda-base-py"
  },
  "language_info": {
   "codemirror_mode": {
    "name": "ipython",
    "version": 3
   },
   "file_extension": ".py",
   "mimetype": "text/x-python",
   "name": "python",
   "nbconvert_exporter": "python",
   "pygments_lexer": "ipython3",
   "version": "3.12.7"
  }
 },
 "nbformat": 4,
 "nbformat_minor": 5
}
