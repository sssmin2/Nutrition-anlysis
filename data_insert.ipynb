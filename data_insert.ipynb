{
 "cells": [
  {
   "cell_type": "code",
   "execution_count": 1,
   "id": "3c4b1560-eb6d-4145-8783-86a818597426",
   "metadata": {
    "scrolled": true
   },
   "outputs": [
    {
     "name": "stdout",
     "output_type": "stream",
     "text": [
      "Requirement already satisfied: sqlalchemy in /Users/sumin/opt/anaconda3/lib/python3.12/site-packages (2.0.34)\n",
      "Requirement already satisfied: pymysql in /Users/sumin/opt/anaconda3/lib/python3.12/site-packages (1.1.1)\n",
      "Requirement already satisfied: pandas in /Users/sumin/opt/anaconda3/lib/python3.12/site-packages (2.2.2)\n",
      "Requirement already satisfied: typing-extensions>=4.6.0 in /Users/sumin/opt/anaconda3/lib/python3.12/site-packages (from sqlalchemy) (4.13.0)\n",
      "Requirement already satisfied: numpy>=1.26.0 in /Users/sumin/opt/anaconda3/lib/python3.12/site-packages (from pandas) (1.26.4)\n",
      "Requirement already satisfied: python-dateutil>=2.8.2 in /Users/sumin/opt/anaconda3/lib/python3.12/site-packages (from pandas) (2.9.0.post0)\n",
      "Requirement already satisfied: pytz>=2020.1 in /Users/sumin/opt/anaconda3/lib/python3.12/site-packages (from pandas) (2024.1)\n",
      "Requirement already satisfied: tzdata>=2022.7 in /Users/sumin/opt/anaconda3/lib/python3.12/site-packages (from pandas) (2023.3)\n",
      "Requirement already satisfied: six>=1.5 in /Users/sumin/opt/anaconda3/lib/python3.12/site-packages (from python-dateutil>=2.8.2->pandas) (1.16.0)\n",
      "Note: you may need to restart the kernel to use updated packages.\n"
     ]
    }
   ],
   "source": [
    "pip install sqlalchemy pymysql pandas"
   ]
  },
  {
   "cell_type": "code",
   "execution_count": 5,
   "id": "d84c4d0e-86d3-474d-bda1-8fa673608ee3",
   "metadata": {},
   "outputs": [
    {
     "name": "stdout",
     "output_type": "stream",
     "text": [
      "Requirement already satisfied: pandas in /Users/sumin/opt/anaconda3/lib/python3.12/site-packages (2.2.2)\n",
      "Requirement already satisfied: numpy>=1.26.0 in /Users/sumin/opt/anaconda3/lib/python3.12/site-packages (from pandas) (1.26.4)\n",
      "Requirement already satisfied: python-dateutil>=2.8.2 in /Users/sumin/opt/anaconda3/lib/python3.12/site-packages (from pandas) (2.9.0.post0)\n",
      "Requirement already satisfied: pytz>=2020.1 in /Users/sumin/opt/anaconda3/lib/python3.12/site-packages (from pandas) (2024.1)\n",
      "Requirement already satisfied: tzdata>=2022.7 in /Users/sumin/opt/anaconda3/lib/python3.12/site-packages (from pandas) (2023.3)\n",
      "Requirement already satisfied: six>=1.5 in /Users/sumin/opt/anaconda3/lib/python3.12/site-packages (from python-dateutil>=2.8.2->pandas) (1.16.0)\n",
      "Note: you may need to restart the kernel to use updated packages.\n"
     ]
    }
   ],
   "source": [
    "pip install pandas"
   ]
  },
  {
   "cell_type": "markdown",
   "id": "494c73be-867a-4fdb-95eb-7116a3253fb2",
   "metadata": {},
   "source": [
    "### food_nutrition_db 테이블에 데이터 삽입"
   ]
  },
  {
   "cell_type": "markdown",
   "id": "6fc8437b-7f7a-4452-bbe9-3d8d5833fb00",
   "metadata": {},
   "source": [
    "#### csv 데이터 로드 및 클렌징"
   ]
  },
  {
   "cell_type": "code",
   "execution_count": 22,
   "id": "81b615ee-5df1-4fc9-b8e3-48ee3406a642",
   "metadata": {},
   "outputs": [
    {
     "name": "stdout",
     "output_type": "stream",
     "text": [
      "Index(['food_code', 'food_name', 'serving_size_g', 'net_weight_g',\n",
      "       'calorie_kcal', 'protein_g', 'fat_g', 'carbohydrate_g', 'sugar_g',\n",
      "       'sodium_mg', 'vitamin_a_μg', 'vitamin_c_mg', 'vitamin_d_mg',\n",
      "       'cholesterol_mg', 'saturated_fat_g', 'trans_fat_g', 'vitamin_b12_μg',\n",
      "       'zinc_mg'],\n",
      "      dtype='object')\n",
      "food_code           object\n",
      "food_name           object\n",
      "serving_size_g       int64\n",
      "net_weight_g       float64\n",
      "calorie_kcal       float64\n",
      "protein_g          float64\n",
      "fat_g              float64\n",
      "carbohydrate_g     float64\n",
      "sugar_g            float64\n",
      "sodium_mg          float64\n",
      "vitamin_a_μg       float64\n",
      "vitamin_c_mg       float64\n",
      "vitamin_d_mg       float64\n",
      "cholesterol_mg     float64\n",
      "saturated_fat_g    float64\n",
      "trans_fat_g        float64\n",
      "vitamin_b12_μg     float64\n",
      "zinc_mg            float64\n",
      "dtype: object\n"
     ]
    }
   ],
   "source": [
    "import pandas as pd\n",
    "\n",
    "df = pd.read_csv('data_preprocessing/식품영양성분DB_전처리.csv')\n",
    "\n",
    "print(df.columns)\n",
    "print(df.dtypes)"
   ]
  },
  {
   "cell_type": "markdown",
   "id": "1aacf227-35f4-45e4-bded-92622bbe136a",
   "metadata": {},
   "source": [
    "#### SQLAlchemy 연결 URL 구성"
   ]
  },
  {
   "cell_type": "code",
   "execution_count": 55,
   "id": "5f6fca7d-a365-426c-96b4-d232861d2213",
   "metadata": {},
   "outputs": [],
   "source": [
    "from sqlalchemy import create_engine\n",
    "\n",
    "db_user = 'root'\n",
    "db_password = '00000000'\n",
    "db_host = 'localhost'\n",
    "db_port = '3306'\n",
    "db_name = 'nutrition'\n",
    "\n",
    "engine = create_engine(f'mysql+pymysql://{db_user}:{db_password}@{db_host}:{db_port}/{db_name}?charset=utf8mb4')"
   ]
  },
  {
   "cell_type": "markdown",
   "id": "4b488a94-e1b5-4eec-afcd-9f5d85945312",
   "metadata": {},
   "source": [
    "#### 데이터 삽입"
   ]
  },
  {
   "cell_type": "code",
   "execution_count": 27,
   "id": "5cb8a399-336d-4569-963e-74557daeabaa",
   "metadata": {},
   "outputs": [
    {
     "name": "stdout",
     "output_type": "stream",
     "text": [
      "데이터 삽입 완료\n"
     ]
    }
   ],
   "source": [
    "df.to_sql(name='food_nutrition_db', con=engine, if_exists='append', index=False)\n",
    "print('데이터 삽입 완료')"
   ]
  },
  {
   "cell_type": "markdown",
   "id": "3f3513e7-4a66-4d0c-aae2-0e0145132f69",
   "metadata": {},
   "source": [
    "#### 삽입 확인"
   ]
  },
  {
   "cell_type": "code",
   "execution_count": 32,
   "id": "c5ecd9e7-cab9-4a5a-8bd6-860cedcf3645",
   "metadata": {},
   "outputs": [
    {
     "name": "stdout",
     "output_type": "stream",
     "text": [
      "총 개수: 140101\n"
     ]
    }
   ],
   "source": [
    "from sqlalchemy import text\n",
    "\n",
    "with engine.connect() as conn:\n",
    "    result = conn.execute(text(\"SELECT COUNT(*) FROM food_nutrition_db\"))\n",
    "    count = result.scalar() \n",
    "    print(\"총 개수:\", count)"
   ]
  },
  {
   "cell_type": "markdown",
   "id": "3b27d652-7c47-471b-830c-25002d02cd11",
   "metadata": {},
   "source": [
    "### food_ingredients 테이블에 데이터 삽입"
   ]
  },
  {
   "cell_type": "markdown",
   "id": "1b6f0e33-811b-4c70-9dc2-fd84808438db",
   "metadata": {},
   "source": [
    "#### csv 데이터 로드"
   ]
  },
  {
   "cell_type": "code",
   "execution_count": 77,
   "id": "6418f8ee-9ae5-453b-b5cd-8c6414e059f5",
   "metadata": {},
   "outputs": [
    {
     "name": "stdout",
     "output_type": "stream",
     "text": [
      "Index(['rprsnt_rawmtrl_nm', 'rawmtrl_ncknm', 'eng_nm', 'lclas_nm', 'mlsfc_nm'], dtype='object')\n",
      "rprsnt_rawmtrl_nm    object\n",
      "rawmtrl_ncknm        object\n",
      "eng_nm               object\n",
      "lclas_nm             object\n",
      "mlsfc_nm             object\n",
      "dtype: object\n"
     ]
    }
   ],
   "source": [
    "import pandas as pd\n",
    "\n",
    "df = pd.read_csv('data_preprocessing/식품원재료정보_전처리.csv', encoding='utf-8-sig')\n",
    "\n",
    "print(df.columns)\n",
    "print(df.dtypes)"
   ]
  },
  {
   "cell_type": "markdown",
   "id": "c46a1d8f-ae7f-43e2-b928-578ceb67427c",
   "metadata": {},
   "source": [
    "#### SQLAlchemy 연결 URL 구성"
   ]
  },
  {
   "cell_type": "code",
   "execution_count": 79,
   "id": "7d54cea5-41ff-4548-8c7a-2a813e1fd3a9",
   "metadata": {},
   "outputs": [],
   "source": [
    "from sqlalchemy import create_engine\n",
    "\n",
    "db_user = 'root'\n",
    "db_password = '00000000'\n",
    "db_host = 'localhost'\n",
    "db_port = '3306'\n",
    "db_name = 'nutrition'\n",
    "\n",
    "engine = create_engine(f'mysql+pymysql://{db_user}:{db_password}@{db_host}:{db_port}/{db_name}?charset=utf8mb4')"
   ]
  },
  {
   "cell_type": "markdown",
   "id": "6cbec183-3812-4bd8-b37b-eba2ae46dce3",
   "metadata": {},
   "source": [
    "#### 데이터 삽입"
   ]
  },
  {
   "cell_type": "code",
   "execution_count": 94,
   "id": "f04a0ce6-325f-4419-a8dd-69452876684d",
   "metadata": {},
   "outputs": [
    {
     "name": "stdout",
     "output_type": "stream",
     "text": [
      "데이터 삽입 완료\n"
     ]
    }
   ],
   "source": [
    "df.to_sql(name='food_ingredients', con=engine, if_exists='replace', index=False)\n",
    "print('데이터 삽입 완료')"
   ]
  },
  {
   "cell_type": "markdown",
   "id": "1f3eb7ee-ec5e-4d5d-88ec-19ffe96f1a1e",
   "metadata": {},
   "source": [
    "#### 삽입 확인"
   ]
  },
  {
   "cell_type": "code",
   "execution_count": 96,
   "id": "9cdddd36-c2f9-41a3-bde4-cd7a11a2bce7",
   "metadata": {},
   "outputs": [
    {
     "name": "stdout",
     "output_type": "stream",
     "text": [
      "총 개수: 18463\n"
     ]
    }
   ],
   "source": [
    "from sqlalchemy import text\n",
    "\n",
    "with engine.connect() as conn:\n",
    "    result = conn.execute(text(\"SELECT COUNT(*) FROM food_ingredients\"))\n",
    "    count = result.scalar() \n",
    "    print(\"총 개수:\", count)"
   ]
  },
  {
   "cell_type": "markdown",
   "id": "8fe213e8-8a01-4645-896f-59095a2df67c",
   "metadata": {},
   "source": [
    "### raw_food_nutrition 테이블에 데이터 삽입"
   ]
  },
  {
   "cell_type": "code",
   "execution_count": 107,
   "id": "c36f6edc-5f89-40d0-a003-c64fbb380f37",
   "metadata": {},
   "outputs": [
    {
     "name": "stdout",
     "output_type": "stream",
     "text": [
      "Index(['food_code', 'food_name', 'data_pid', 'data_pid_name', 'serving_size_g',\n",
      "       'calorie_kcal', 'carbohydrate_g', 'protein_g', 'fat_g', 'sugar_g',\n",
      "       'saturated_fat_g', 'trans_fat_g', 'sodium_mg', 'cholesterol_mg',\n",
      "       'dietary_fiber_g', 'vitamin_a_μg', 'vitamin_c_mg', 'vitamin_d_ug',\n",
      "       'calcium_mg', 'iron_mg'],\n",
      "      dtype='object')\n",
      "food_code           object\n",
      "food_name           object\n",
      "data_pid            object\n",
      "data_pid_name       object\n",
      "serving_size_g       int64\n",
      "calorie_kcal         int64\n",
      "carbohydrate_g     float64\n",
      "protein_g          float64\n",
      "fat_g              float64\n",
      "sugar_g            float64\n",
      "saturated_fat_g    float64\n",
      "trans_fat_g        float64\n",
      "sodium_mg          float64\n",
      "cholesterol_mg     float64\n",
      "dietary_fiber_g    float64\n",
      "vitamin_a_μg       float64\n",
      "vitamin_c_mg       float64\n",
      "vitamin_d_ug       float64\n",
      "calcium_mg         float64\n",
      "iron_mg            float64\n",
      "dtype: object\n"
     ]
    }
   ],
   "source": [
    "import pandas as pd\n",
    "\n",
    "df = pd.read_csv('data_preprocessing/전국통합식품영양성분정보_원재료성식품_전처리.csv', encoding='utf-8-sig')\n",
    "\n",
    "print(df.columns)\n",
    "print(df.dtypes)"
   ]
  },
  {
   "cell_type": "code",
   "execution_count": 116,
   "id": "d3d20e90-8b5f-4858-8d55-a327bdf1e992",
   "metadata": {},
   "outputs": [
    {
     "data": {
      "text/plain": [
       "(3630, 20)"
      ]
     },
     "execution_count": 116,
     "metadata": {},
     "output_type": "execute_result"
    }
   ],
   "source": [
    "df.shape"
   ]
  },
  {
   "cell_type": "markdown",
   "id": "8431a3b5-5495-4c2d-a0ef-67cfd4149c36",
   "metadata": {},
   "source": [
    "#### 데이터 삽입"
   ]
  },
  {
   "cell_type": "code",
   "execution_count": 111,
   "id": "0b390fac-fd1e-45ee-b97a-d1a40ddaba37",
   "metadata": {},
   "outputs": [
    {
     "name": "stdout",
     "output_type": "stream",
     "text": [
      "데이터 삽입 완료\n"
     ]
    }
   ],
   "source": [
    "df.to_sql(name='raw_food_nutrition', con=engine, if_exists='replace', index=False)\n",
    "print('데이터 삽입 완료')"
   ]
  },
  {
   "cell_type": "markdown",
   "id": "9383e9be-888d-4e5a-8fc8-d6282c241386",
   "metadata": {},
   "source": [
    "#### 삽입 확인"
   ]
  },
  {
   "cell_type": "code",
   "execution_count": 120,
   "id": "e6d1ec45-0f41-4a32-8e53-09f1ec6bb9df",
   "metadata": {},
   "outputs": [
    {
     "name": "stdout",
     "output_type": "stream",
     "text": [
      "총 개수: 3630\n"
     ]
    }
   ],
   "source": [
    "from sqlalchemy import text\n",
    "\n",
    "with engine.connect() as conn:\n",
    "    result = conn.execute(text(\"SELECT COUNT(*) FROM raw_food_nutrition\"))\n",
    "    count = result.scalar() \n",
    "    print(\"총 개수:\", count)"
   ]
  },
  {
   "cell_type": "markdown",
   "id": "f67c6546-ae19-40c0-aba5-a9e6b4a8e495",
   "metadata": {},
   "source": [
    "### standard_nutrition 테이블에 데이터 삽입"
   ]
  },
  {
   "cell_type": "code",
   "execution_count": 132,
   "id": "21531d5d-6a3a-468b-b679-ce422822229c",
   "metadata": {},
   "outputs": [
    {
     "name": "stdout",
     "output_type": "stream",
     "text": [
      "Index(['food_code', 'food_name', 'data_pid', 'data_pid_name', 'serving_size_g',\n",
      "       'calorie_kcal', 'carbohydrate_g', 'sugar_g', 'protein_g', 'fat_g',\n",
      "       'saturated_fat_g', 'trans_fat_g', 'sodium_mg', 'cholesterol_mg',\n",
      "       'fiber_g', 'vitamin_c_mg', 'vitamin_d_μg', 'calcium_mg', 'iron_mg'],\n",
      "      dtype='object')\n",
      "food_code           object\n",
      "food_name           object\n",
      "data_pid            object\n",
      "data_pid_name       object\n",
      "serving_size_g       int64\n",
      "calorie_kcal         int64\n",
      "carbohydrate_g     float64\n",
      "sugar_g            float64\n",
      "protein_g          float64\n",
      "fat_g              float64\n",
      "saturated_fat_g    float64\n",
      "trans_fat_g        float64\n",
      "sodium_mg          float64\n",
      "cholesterol_mg     float64\n",
      "fiber_g            float64\n",
      "vitamin_c_mg       float64\n",
      "vitamin_d_μg       float64\n",
      "calcium_mg         float64\n",
      "iron_mg            float64\n",
      "dtype: object\n",
      "(50000, 19)\n"
     ]
    }
   ],
   "source": [
    "import pandas as pd\n",
    "\n",
    "df = pd.read_csv('data_preprocessing/전국통합영양성분표준_전처리.csv', encoding='utf-8-sig')\n",
    "\n",
    "print(df.columns)\n",
    "print(df.dtypes)\n",
    "print(df.shape)"
   ]
  },
  {
   "cell_type": "markdown",
   "id": "775319f0-2e1c-4da7-9101-58231e9284e5",
   "metadata": {},
   "source": [
    "#### 데이터 삽입"
   ]
  },
  {
   "cell_type": "code",
   "execution_count": 134,
   "id": "3ef15d6c-91e1-4ad4-b336-22216dfa4df7",
   "metadata": {},
   "outputs": [
    {
     "name": "stdout",
     "output_type": "stream",
     "text": [
      "데이터 삽입 완료\n"
     ]
    }
   ],
   "source": [
    "df.to_sql(name='standard_nutrition', con=engine, if_exists='replace', index=False)\n",
    "print('데이터 삽입 완료')"
   ]
  },
  {
   "cell_type": "code",
   "execution_count": 136,
   "id": "28859c34-f4ac-4bbb-9af3-3e778b22e12c",
   "metadata": {},
   "outputs": [
    {
     "name": "stdout",
     "output_type": "stream",
     "text": [
      "총 개수: 50000\n"
     ]
    }
   ],
   "source": [
    "from sqlalchemy import text\n",
    "\n",
    "with engine.connect() as conn:\n",
    "    result = conn.execute(text(\"SELECT COUNT(*) FROM standard_nutrition\"))\n",
    "    count = result.scalar() \n",
    "    print(\"총 개수:\", count)"
   ]
  }
 ],
 "metadata": {
  "kernelspec": {
   "display_name": "Python [conda env:base] *",
   "language": "python",
   "name": "conda-base-py"
  },
  "language_info": {
   "codemirror_mode": {
    "name": "ipython",
    "version": 3
   },
   "file_extension": ".py",
   "mimetype": "text/x-python",
   "name": "python",
   "nbconvert_exporter": "python",
   "pygments_lexer": "ipython3",
   "version": "3.12.7"
  }
 },
 "nbformat": 4,
 "nbformat_minor": 5
}
